{
 "cells": [
  {
   "cell_type": "code",
   "execution_count": 1,
   "metadata": {
    "colab": {
     "autoexec": {
      "startup": false,
      "wait_interval": 0
     }
    },
    "colab_type": "code",
    "id": "qXO2ZE0vgA5e"
   },
   "outputs": [],
   "source": [
    "##Importing libraries \n",
    "import numpy as np\n",
    "import matplotlib.pyplot as plt\n",
    "import tensorflow as tf\n",
    "from tensorflow.examples.tutorials.mnist import input_data\n"
   ]
  },
  {
   "cell_type": "code",
   "execution_count": 2,
   "metadata": {
    "colab": {
     "autoexec": {
      "startup": false,
      "wait_interval": 0
     },
     "base_uri": "https://localhost:8080/",
     "height": 530
    },
    "colab_type": "code",
    "executionInfo": {
     "elapsed": 35276,
     "status": "ok",
     "timestamp": 1526718367592,
     "user": {
      "displayName": "Physics for IIT-JEE By Arpan Gupta IIT Roorkee",
      "photoUrl": "//lh3.googleusercontent.com/-xVjqDbJQmr8/AAAAAAAAAAI/AAAAAAAAAFQ/PU7dBZDglzU/s50-c-k-no/photo.jpg",
      "userId": "115208507553064761315"
     },
     "user_tz": -330
    },
    "id": "_hxObiVIgA5m",
    "outputId": "65ee6574-e56f-40ac-8409-7d0a18a2cab5"
   },
   "outputs": [
    {
     "name": "stdout",
     "output_type": "stream",
     "text": [
      "WARNING:tensorflow:From <ipython-input-2-93ea383bd3e5>:2: read_data_sets (from tensorflow.contrib.learn.python.learn.datasets.mnist) is deprecated and will be removed in a future version.\n",
      "Instructions for updating:\n",
      "Please use alternatives such as official/mnist/dataset.py from tensorflow/models.\n",
      "WARNING:tensorflow:From C:\\Users\\Rishipal Singh\\.conda\\envs\\venv\\lib\\site-packages\\tensorflow\\contrib\\learn\\python\\learn\\datasets\\mnist.py:260: maybe_download (from tensorflow.contrib.learn.python.learn.datasets.base) is deprecated and will be removed in a future version.\n",
      "Instructions for updating:\n",
      "Please write your own downloading logic.\n",
      "WARNING:tensorflow:From C:\\Users\\Rishipal Singh\\.conda\\envs\\venv\\lib\\site-packages\\tensorflow\\contrib\\learn\\python\\learn\\datasets\\base.py:252: _internal_retry.<locals>.wrap.<locals>.wrapped_fn (from tensorflow.contrib.learn.python.learn.datasets.base) is deprecated and will be removed in a future version.\n",
      "Instructions for updating:\n",
      "Please use urllib or similar directly.\n",
      "Successfully downloaded train-images-idx3-ubyte.gz 9912422 bytes.\n",
      "WARNING:tensorflow:From C:\\Users\\Rishipal Singh\\.conda\\envs\\venv\\lib\\site-packages\\tensorflow\\contrib\\learn\\python\\learn\\datasets\\mnist.py:262: extract_images (from tensorflow.contrib.learn.python.learn.datasets.mnist) is deprecated and will be removed in a future version.\n",
      "Instructions for updating:\n",
      "Please use tf.data to implement this functionality.\n",
      "Extracting /tmp/data/train-images-idx3-ubyte.gz\n",
      "Successfully downloaded train-labels-idx1-ubyte.gz 28881 bytes.\n",
      "WARNING:tensorflow:From C:\\Users\\Rishipal Singh\\.conda\\envs\\venv\\lib\\site-packages\\tensorflow\\contrib\\learn\\python\\learn\\datasets\\mnist.py:267: extract_labels (from tensorflow.contrib.learn.python.learn.datasets.mnist) is deprecated and will be removed in a future version.\n",
      "Instructions for updating:\n",
      "Please use tf.data to implement this functionality.\n",
      "Extracting /tmp/data/train-labels-idx1-ubyte.gz\n",
      "WARNING:tensorflow:From C:\\Users\\Rishipal Singh\\.conda\\envs\\venv\\lib\\site-packages\\tensorflow\\contrib\\learn\\python\\learn\\datasets\\mnist.py:110: dense_to_one_hot (from tensorflow.contrib.learn.python.learn.datasets.mnist) is deprecated and will be removed in a future version.\n",
      "Instructions for updating:\n",
      "Please use tf.one_hot on tensors.\n",
      "Successfully downloaded t10k-images-idx3-ubyte.gz 1648877 bytes.\n",
      "Extracting /tmp/data/t10k-images-idx3-ubyte.gz\n",
      "Successfully downloaded t10k-labels-idx1-ubyte.gz 4542 bytes.\n",
      "Extracting /tmp/data/t10k-labels-idx1-ubyte.gz\n",
      "WARNING:tensorflow:From C:\\Users\\Rishipal Singh\\.conda\\envs\\venv\\lib\\site-packages\\tensorflow\\contrib\\learn\\python\\learn\\datasets\\mnist.py:290: DataSet.__init__ (from tensorflow.contrib.learn.python.learn.datasets.mnist) is deprecated and will be removed in a future version.\n",
      "Instructions for updating:\n",
      "Please use alternatives such as official/mnist/dataset.py from tensorflow/models.\n"
     ]
    }
   ],
   "source": [
    "## Reading the data\n",
    "df=input_data.read_data_sets(\"/tmp/data/\",one_hot=True)"
   ]
  },
  {
   "cell_type": "code",
   "execution_count": 3,
   "metadata": {
    "colab": {
     "autoexec": {
      "startup": false,
      "wait_interval": 0
     }
    },
    "colab_type": "code",
    "id": "E2C66fAggA5x"
   },
   "outputs": [],
   "source": [
    "###Neural Network Parameters\n",
    "### 28*28=784\n",
    "\n",
    "num_inputs = 784 \n",
    "\n",
    "num_h1 = 256 \n",
    "num_h2 = 128 \n"
   ]
  },
  {
   "cell_type": "code",
   "execution_count": 4,
   "metadata": {
    "colab": {
     "autoexec": {
      "startup": false,
      "wait_interval": 0
     }
    },
    "colab_type": "code",
    "id": "J0wMzTH_gA53"
   },
   "outputs": [],
   "source": [
    "###Tensorflow data inputs\n",
    "\n",
    "X=tf.placeholder(\"float\",shape=[None,num_inputs])\n",
    "\n"
   ]
  },
  {
   "cell_type": "code",
   "execution_count": 5,
   "metadata": {
    "colab": {
     "autoexec": {
      "startup": false,
      "wait_interval": 0
     }
    },
    "colab_type": "code",
    "id": "JHC1DH6sgA57"
   },
   "outputs": [],
   "source": [
    "### Neural Network training parameters\n",
    "\n",
    "batch_size=256\n",
    "num_steps=40000\n",
    "learning_rate=5e-1\n",
    "display_step=1000"
   ]
  },
  {
   "cell_type": "code",
   "execution_count": 6,
   "metadata": {
    "colab": {
     "autoexec": {
      "startup": false,
      "wait_interval": 0
     }
    },
    "colab_type": "code",
    "id": "A91PnTakgA6A"
   },
   "outputs": [],
   "source": [
    "###Creating Network Architechture\n",
    "\n",
    "def encoder_layer(x):\n",
    "    l1=tf.matmul(x,W[\"w1\"])\n",
    "    l1=tf.add(l1,b[\"b1\"])\n",
    "    l1=tf.nn.sigmoid(l1)\n",
    "    \n",
    "    l1=tf.matmul(l1,W[\"w2\"])\n",
    "    l1=tf.add(l1,b[\"b2\"])\n",
    "    l1=tf.nn.sigmoid(l1)\n",
    "    \n",
    "    return l1\n",
    "    \n",
    "    \n",
    "\n",
    "def decoder_layer(x):\n",
    "    l2=tf.matmul(x,W[\"w3\"])\n",
    "    l2=tf.add(l2,b[\"b3\"])\n",
    "    l2=tf.nn.sigmoid(l2)\n",
    "    \n",
    "    l2=tf.matmul(l2,W[\"w4\"])\n",
    "    l2=tf.add(l2,b[\"b4\"])\n",
    "    l2=tf.nn.sigmoid(l2)\n",
    "    \n",
    "    return l2"
   ]
  },
  {
   "cell_type": "code",
   "execution_count": 7,
   "metadata": {
    "colab": {
     "autoexec": {
      "startup": false,
      "wait_interval": 0
     }
    },
    "colab_type": "code",
    "id": "pgHKDaMegA6F"
   },
   "outputs": [
    {
     "name": "stdout",
     "output_type": "stream",
     "text": [
      "WARNING:tensorflow:From C:\\Users\\Rishipal Singh\\.conda\\envs\\venv\\lib\\site-packages\\tensorflow\\python\\framework\\op_def_library.py:263: colocate_with (from tensorflow.python.framework.ops) is deprecated and will be removed in a future version.\n",
      "Instructions for updating:\n",
      "Colocations handled automatically by placer.\n"
     ]
    }
   ],
   "source": [
    "###Model Architechture Weights\n",
    "\n",
    "\n",
    "W={\"w1\":tf.Variable(tf.random_normal([num_inputs,num_h1])),\n",
    "   \"w2\": tf.Variable(tf.random_normal([num_h1,num_h2])),\n",
    "   \"w3\": tf.Variable(tf.random_normal([num_h2,num_h1])), \n",
    "   \"w4\": tf.Variable(tf.random_normal([num_h1,num_inputs]))} \n",
    "\n",
    "b={\"b1\":tf.Variable(tf.random_normal([num_h1])),\n",
    "   \"b2\":tf.Variable(tf.random_normal([num_h2])),\n",
    "   \"b3\":tf.Variable(tf.random_normal([num_h1])),\n",
    "   \"b4\":tf.Variable(tf.random_normal([num_inputs]))}"
   ]
  },
  {
   "cell_type": "code",
   "execution_count": 8,
   "metadata": {
    "colab": {
     "autoexec": {
      "startup": false,
      "wait_interval": 0
     }
    },
    "colab_type": "code",
    "id": "nY_tx70egA6J"
   },
   "outputs": [],
   "source": [
    "###Model Architechture\n",
    "\n",
    "encoder_fun = encoder_layer(X)\n",
    "decoder_fun = decoder_layer(encoder_fun)"
   ]
  },
  {
   "cell_type": "code",
   "execution_count": 9,
   "metadata": {
    "colab": {
     "autoexec": {
      "startup": false,
      "wait_interval": 0
     }
    },
    "colab_type": "code",
    "id": "Y2jIyB_JgA6P"
   },
   "outputs": [],
   "source": [
    "####Cost function Evaluation\n",
    "\n",
    "\n",
    "# Prediction\n",
    "predicted = decoder_fun\n",
    "\n",
    "#Actual\n",
    "actual=X\n",
    "\n",
    "cost_fn=tf.reduce_mean(tf.pow(actual - predicted, 2))\n",
    "optim=tf.train.RMSPropOptimizer(learning_rate=learning_rate)\n",
    "training=optim.minimize(cost_fn)\n",
    "\n",
    "\n"
   ]
  },
  {
   "cell_type": "code",
   "execution_count": 10,
   "metadata": {
    "colab": {
     "autoexec": {
      "startup": false,
      "wait_interval": 0
     },
     "base_uri": "https://localhost:8080/",
     "height": 1267
    },
    "colab_type": "code",
    "executionInfo": {
     "elapsed": 135765,
     "status": "ok",
     "timestamp": 1526719904057,
     "user": {
      "displayName": "Physics for IIT-JEE By Arpan Gupta IIT Roorkee",
      "photoUrl": "//lh3.googleusercontent.com/-xVjqDbJQmr8/AAAAAAAAAAI/AAAAAAAAAFQ/PU7dBZDglzU/s50-c-k-no/photo.jpg",
      "userId": "115208507553064761315"
     },
     "user_tz": -330
    },
    "id": "gkfloLOQgA6V",
    "outputId": "119b2351-5616-4f08-b600-20bca74c214d"
   },
   "outputs": [
    {
     "name": "stdout",
     "output_type": "stream",
     "text": [
      "Step 1, Minibatch Loss= 0.4366\n",
      "Step 1000, Minibatch Loss= 0.1834\n",
      "Step 2000, Minibatch Loss= 0.1750\n",
      "Step 3000, Minibatch Loss= 0.1736\n",
      "Step 4000, Minibatch Loss= 0.1750\n",
      "Step 5000, Minibatch Loss= 0.1770\n",
      "Step 6000, Minibatch Loss= 0.1765\n",
      "Step 7000, Minibatch Loss= 0.1783\n",
      "Step 8000, Minibatch Loss= 0.1752\n",
      "Step 9000, Minibatch Loss= 0.1759\n",
      "Step 10000, Minibatch Loss= 0.1749\n",
      "Step 11000, Minibatch Loss= 0.1707\n",
      "Step 12000, Minibatch Loss= 0.1676\n",
      "Step 13000, Minibatch Loss= 0.1703\n",
      "Step 14000, Minibatch Loss= 0.1697\n",
      "Step 15000, Minibatch Loss= 0.1720\n",
      "Step 16000, Minibatch Loss= 0.1708\n",
      "Step 17000, Minibatch Loss= 0.1642\n",
      "Step 18000, Minibatch Loss= 0.1669\n",
      "Step 19000, Minibatch Loss= 0.1689\n",
      "Step 20000, Minibatch Loss= 0.1674\n",
      "Step 21000, Minibatch Loss= 0.1693\n",
      "Step 22000, Minibatch Loss= 0.1683\n",
      "Step 23000, Minibatch Loss= 0.1682\n",
      "Step 24000, Minibatch Loss= 0.1708\n",
      "Step 25000, Minibatch Loss= 0.1667\n",
      "Step 26000, Minibatch Loss= 0.1680\n",
      "Step 27000, Minibatch Loss= 0.1691\n",
      "Step 28000, Minibatch Loss= 0.1695\n",
      "Step 29000, Minibatch Loss= 0.1699\n",
      "Step 30000, Minibatch Loss= 0.1705\n",
      "Step 31000, Minibatch Loss= 0.1670\n",
      "Step 32000, Minibatch Loss= 0.1707\n",
      "Step 33000, Minibatch Loss= 0.1705\n",
      "Step 34000, Minibatch Loss= 0.1693\n",
      "Step 35000, Minibatch Loss= 0.1692\n",
      "Step 36000, Minibatch Loss= 0.1696\n",
      "Step 37000, Minibatch Loss= 0.1689\n",
      "Step 38000, Minibatch Loss= 0.1694\n",
      "Step 39000, Minibatch Loss= 0.1722\n",
      "Step 40000, Minibatch Loss= 0.1705\n",
      "Optimization Finished!\n",
      "Original Images\n"
     ]
    },
    {
     "data": {
      "image/png": "[encoded data removed]",
      "text/plain": [
       "<Figure size 288x288 with 1 Axes>"
      ]
     },
     "metadata": {
      "needs_background": "light"
     },
     "output_type": "display_data"
    },
    {
     "name": "stdout",
     "output_type": "stream",
     "text": [
      "Reconstructed Images\n"
     ]
    },
    {
     "data": {
      "image/png": "[encoded data removed]",
      "text/plain": [
       "<Figure size 288x288 with 1 Axes>"
      ]
     },
     "metadata": {
      "needs_background": "light"
     },
     "output_type": "display_data"
    }
   ],
   "source": [
    "# Initialize the variables (i.e. assign their default value)\n",
    "init = tf.global_variables_initializer()\n",
    "\n",
    "###Staring the Model training Session\n",
    "with tf.Session() as sess:\n",
    "\n",
    "    # Run the initializer\n",
    "    sess.run(init)\n",
    "\n",
    "    for step in range(1, num_steps+1):\n",
    "        batch_x, _ = df.train.next_batch(batch_size)\n",
    "        # Run optimization op (backprop)\n",
    "        sess.run(training, feed_dict={X: batch_x})\n",
    "        if step % display_step == 0 or step == 1:\n",
    "            # Calculate batch loss and accuracy\n",
    "            loss, _ = sess.run([cost_fn, training], feed_dict={X: batch_x})\n",
    "            print(\"Step \" + str(step) + \", Minibatch Loss= \" + \\\n",
    "                  \"{:.4f}\".format(loss))\n",
    "\n",
    "    print(\"Optimization Finished!\")\n",
    "    \n",
    "    # Testing\n",
    "    # Encode and decode images from test set and visualize their reconstruction.\n",
    "    n = 4\n",
    "    canvas_orig = np.empty((28 * n, 28 * n))\n",
    "    canvas_recon = np.empty((28 * n, 28 * n))\n",
    "\n",
    "\n",
    "    for i in range(n):\n",
    "\n",
    "        batch_x, _ = df.test.next_batch(n)\n",
    "\n",
    "        # Session \n",
    "        g = sess.run(decoder_fun, feed_dict={X: batch_x})\n",
    "    \n",
    "        # original images\n",
    "        for j in range(n):\n",
    "            # Draw the generated digits\n",
    "            canvas_orig[i * 28:(i + 1) * 28, j * 28:(j + 1) * 28] = batch_x[j].reshape([28, 28])\n",
    "    \n",
    "        #  reconstructed images\n",
    "        for j in range(n):\n",
    "            # Draw the generated digits\n",
    "            canvas_recon[i * 28:(i + 1) * 28, j * 28:(j + 1) * 28] = g[j].reshape([28, 28])\n",
    "\n",
    "    print(\"Original Images\")     \n",
    "    plt.figure(figsize=(n, n))\n",
    "    plt.imshow(canvas_orig, origin=\"upper\", cmap=\"gray\")\n",
    "    plt.show()\n",
    "\n",
    "    print(\"Reconstructed Images\")\n",
    "    plt.figure(figsize=(n, n))\n",
    "    plt.imshow(canvas_recon, origin=\"upper\", cmap=\"gray\")\n",
    "    plt.show()\n",
    "\n",
    "   \n"
   ]
  },
  {
   "cell_type": "code",
   "execution_count": 0,
   "metadata": {
    "colab": {
     "autoexec": {
      "startup": false,
      "wait_interval": 0
     }
    },
    "colab_type": "code",
    "id": "MAG0Vl-oijl_"
   },
   "outputs": [],
   "source": []
  }
 ],
 "metadata": {
  "accelerator": "GPU",
  "colab": {
   "default_view": {},
   "name": "Autoencoder Tensorflow.ipynb",
   "provenance": [],
   "version": "0.3.2",
   "views": {}
  },
  "kernelspec": {
   "display_name": "Python 3",
   "language": "python",
   "name": "python3"
  },
  "language_info": {
   "codemirror_mode": {
    "name": "ipython",
    "version": 3
   },
   "file_extension": ".py",
   "mimetype": "text/x-python",
   "name": "python",
   "nbconvert_exporter": "python",
   "pygments_lexer": "ipython3",
   "version": "3.6.9"
  }
 },
 "nbformat": 4,
 "nbformat_minor": 1
}
